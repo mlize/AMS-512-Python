{
 "cells": [
  {
   "cell_type": "markdown",
   "metadata": {
    "id": "Ay7lAW1hfAB4"
   },
   "source": [
    "<div align = \"center\"><img src = \"https://upload.wikimedia.org/wikipedia/en/thumb/3/3b/Stony_Brook_U_logo_vertical.svg/1024px-Stony_Brook_U_logo_vertical.svg.png\" width =\"300\"></div>\n",
    "\n",
    "# <div align=\"center\"> **AMS 512 Notebook Project: Mathematica to Python** </div>\n",
    "\n",
    "## <div align=\"center\"> **Mean-Variance Optimization** </div>\n",
    "\n",
    "### <div align = \"center\"> **Authors:** *Ainasse, El Mehdi and Lize, Matheus Loss* </div>"
   ]
  },
  {
   "cell_type": "markdown",
   "metadata": {
    "id": "ygUUKU3mjrTq"
   },
   "source": [
    "# **Initial set-up**"
   ]
  },
  {
   "cell_type": "code",
   "execution_count": 1,
   "metadata": {
    "colab": {
     "base_uri": "https://localhost:8080/",
     "height": 71
    },
    "id": "QNiXFQ_BffSE",
    "outputId": "025584cb-bb4e-48e8-97a7-b44c13f13a88"
   },
   "outputs": [],
   "source": [
    "import pandas as pd\n",
    "import numpy as np\n",
    "import math\n",
    "import os\n",
    "import scipy.stats as stats\n",
    "import sys\n",
    "import random\n",
    "import matplotlib.pyplot as plt\n",
    "import seaborn as sns"
   ]
  },
  {
   "cell_type": "markdown",
   "metadata": {
    "id": "uUYx58znAj2Q"
   },
   "source": [
    "# **Disclaimer**\n",
    "\n",
    "All present contents are mainly excerpts from the original notebook by Prof. Robert J. Frey. In particular, textual contents are directly quoted and/or copy-pasted while the coding components have been re-adapted from Mathematica to Python."
   ]
  },
  {
   "cell_type": "markdown",
   "metadata": {
    "id": "EnbSs83-6-Hm"
   },
   "source": [
    "#**Quadratic Programming**"
   ]
  },
  {
   "cell_type": "markdown",
   "metadata": {
    "id": "FtFPQFNveufq"
   },
   "source": [
    "No short postion: \n",
    "* $\\min \\left\\{ \\frac{1}{2} x^{T}\\Sigma x - \\lambda \\mu^{T} x \\big| \\; \\mathbf{1} x^{T}=1 \\wedge x \\ge 0 \\right\\} $ \n",
    "\n",
    "Short postion:\n",
    "*  $\\min \\left\\{ \\frac{1}{2} x^{T}\\Sigma x - \\lambda \\mu^{T} x \\big| \\; \\mathbf{1} x^{T}=1  \\right\\} $ "
   ]
  },
  {
   "cell_type": "markdown",
   "metadata": {
    "id": "PZZwDzlIiCPc"
   },
   "source": [
    "In the [cvxopt](https://cvxopt.org/userguide/coneprog.html#quadratic-programming) library, we solve the problem\n",
    "$$ \\min \\left(  \\frac{1}{2} x^{T} P x + q^{T} x \\right),$$\n",
    "subject to the constraints\n",
    "$$Gx \\le h \\text{ and } Ax = b.$$\n",
    "\n",
    "First, note that all entries must be float numbers. So in our case: \n",
    "\n",
    "* Convariant matrix:  $P_{n\\times n}= \\Sigma_{n\\times n}$.\n",
    "  * Syntax: <code> P = matrix( [ [Sigma[1,1],... ,Sigma[1,n]],[Sigma[2,1],... ,Sigma[2,n]],... , [Sigma[n,1],... ,Sigma[n,n]] ])</code>.\n",
    "* Assets mean: $q = -\\lambda \\mu$.\n",
    "  *  Syntax:   <code>matrix(-\\lambda [mu[1],... ,mu[n]])</code>.\n",
    "* Sum of the weights ($x$) : $A_{1\\times n} = [[1.0,1.0,\\dots,1.0 ]]$. \n",
    " * Syntax: <code>A = matrix(1.0,(1,n))</code> or <code>A = matrix(np.ones(1,n))</code>.\n",
    "*  $b$ in this case is just a constant.\n",
    "  * Syntax: <code> matrix(b) </code> \n",
    "* No short position: $G_{n\\times n} = - \\mathbf{1}_{n\\times n}$ and $h_{n\\times 1}=0$ \n",
    " * Syntax: <code>G = matrix (-np.Identity(n))</code> and <code>h = matrix( np.zeros(n,1))</code>. \n",
    " * For a general $G,h$, the syntax is the following.\n",
    "  * <code>G = matrix([ [G[1,1],... ,G[1,n]],[G[2,1],... ,G[2,n]],..., [G[n,1]],... ,G[n,n]] ])</code> and <code> h = matrix ([h[1],...,h[n]],(n,1))</code>."
   ]
  },
  {
   "cell_type": "code",
   "execution_count": 2,
   "metadata": {
    "id": "ZkUxz6497F4k"
   },
   "outputs": [
    {
     "ename": "ModuleNotFoundError",
     "evalue": "No module named 'cvxopt'",
     "output_type": "error",
     "traceback": [
      "\u001b[0;31m---------------------------------------------------------------------------\u001b[0m",
      "\u001b[0;31mModuleNotFoundError\u001b[0m                       Traceback (most recent call last)",
      "\u001b[0;32m<ipython-input-2-f3511fc14042>\u001b[0m in \u001b[0;36m<module>\u001b[0;34m\u001b[0m\n\u001b[0;32m----> 1\u001b[0;31m \u001b[0;32mfrom\u001b[0m \u001b[0mcvxopt\u001b[0m \u001b[0;32mimport\u001b[0m \u001b[0mmatrix\u001b[0m \u001b[0;32mas\u001b[0m \u001b[0mcvxopt_matrix\u001b[0m\u001b[0;34m\u001b[0m\u001b[0;34m\u001b[0m\u001b[0m\n\u001b[0m\u001b[1;32m      2\u001b[0m \u001b[0;32mfrom\u001b[0m \u001b[0mcvxopt\u001b[0m \u001b[0;32mimport\u001b[0m \u001b[0msolvers\u001b[0m \u001b[0;32mas\u001b[0m \u001b[0mcvxopt_solvers\u001b[0m\u001b[0;34m\u001b[0m\u001b[0;34m\u001b[0m\u001b[0m\n",
      "\u001b[0;31mModuleNotFoundError\u001b[0m: No module named 'cvxopt'"
     ]
    }
   ],
   "source": [
    "from cvxopt import matrix as cvxopt_matrix\n",
    "from cvxopt import solvers as cvxopt_solvers"
   ]
  },
  {
   "cell_type": "code",
   "execution_count": null,
   "metadata": {
    "colab": {
     "base_uri": "https://localhost:8080/",
     "height": 67
    },
    "id": "vAmSsE6IhR3c",
    "outputId": "3dff9e67-636b-4fde-b624-e648f843aaf9"
   },
   "outputs": [
    {
     "name": "stdout",
     "output_type": "stream",
     "text": [
      "[[0.0049  0.00252 0.0042 ]\n",
      " [0.00252 0.0081  0.0036 ]\n",
      " [0.0042  0.0036  0.01   ]]\n"
     ]
    }
   ],
   "source": [
    "cvxopt_matrix(mnCov)\n",
    "print(mnCov)"
   ]
  },
  {
   "cell_type": "code",
   "execution_count": null,
   "metadata": {
    "colab": {
     "base_uri": "https://localhost:8080/",
     "height": 67
    },
    "id": "c5qE2D9XcDfQ",
    "outputId": "93579a5d-104a-4c90-851c-f73a3dd189e1"
   },
   "outputs": [
    {
     "data": {
      "text/plain": [
       "array([[0.0049 , 0.00252, 0.0042 ],\n",
       "       [0.00252, 0.0081 , 0.0036 ],\n",
       "       [0.0042 , 0.0036 , 0.01   ]])"
      ]
     },
     "execution_count": 14,
     "metadata": {
      "tags": []
     },
     "output_type": "execute_result"
    }
   ],
   "source": [
    "mnCov"
   ]
  },
  {
   "cell_type": "code",
   "execution_count": null,
   "metadata": {
    "id": "gZG6U8YDhxcN"
   },
   "outputs": [],
   "source": [
    "def quadraticProgramming(CovMatrix,Mean,Target,*args,short=True):\n",
    "  # Set up\n",
    "  dim = len(Mean)\n",
    "  # Use the cvxopt_matrix() to transform all the input arrays. \n",
    "  P = cvxopt_matrix(CovMatrix)\n",
    "  q= cvxopt_matrix(-Target*Mean)\n",
    "  # The defaut value for the sum of x is 1 :  \n",
    "  if not args:\n",
    "    A=cvxopt_matrix(1.0,(1,dim))\n",
    "    b=cvxopt_matrix(1.0)  \n",
    "  else:\n",
    "    A = cvxopt_matrix(args[0])\n",
    "    b = cvxopt_matrix(args[1],(dim,1))\n",
    "  if short:  \n",
    "    G =cvxopt_matrix(-np.identity(dim))\n",
    "    h =cvxopt_matrix(0.0,(dim,1))\n",
    "\n",
    "  return cvxopt_solvers.qp(P, q, G, h, A,b)"
   ]
  },
  {
   "cell_type": "code",
   "execution_count": null,
   "metadata": {
    "id": "Mjfgzsbuq0So"
   },
   "outputs": [],
   "source": [
    "\n",
    "AA = np.array([1.,1.,1.]).reshape(1,-1)\n",
    "hh = np.array([0.,0.,0.])\n",
    "GG= -np.identity(3)"
   ]
  },
  {
   "cell_type": "code",
   "execution_count": null,
   "metadata": {
    "colab": {
     "base_uri": "https://localhost:8080/",
     "height": 151
    },
    "id": "P7gt3EQWp5S4",
    "outputId": "1b80848c-1b51-4f1f-a5f9-1caf6df579ba"
   },
   "outputs": [
    {
     "name": "stdout",
     "output_type": "stream",
     "text": [
      "     pcost       dcost       gap    pres   dres\n",
      " 0: -1.4091e-03 -1.0017e+00  1e+00  4e-16  2e+00\n",
      " 1: -1.4092e-03 -1.1682e-02  1e-02  2e-16  2e-02\n",
      " 2: -1.4193e-03 -1.7215e-03  3e-04  8e-17  7e-04\n",
      " 3: -1.4408e-03 -1.4609e-03  2e-05  2e-16  2e-05\n",
      " 4: -1.4414e-03 -1.4417e-03  3e-07  1e-16  2e-07\n",
      " 5: -1.4414e-03 -1.4414e-03  3e-09  8e-17  2e-09\n",
      "Optimal solution found.\n"
     ]
    }
   ],
   "source": [
    "sol1 =quadraticProgramming(mnCov,vnMean,0.05)"
   ]
  },
  {
   "cell_type": "code",
   "execution_count": null,
   "metadata": {
    "colab": {
     "base_uri": "https://localhost:8080/",
     "height": 218
    },
    "id": "ZzsW_YkluMbM",
    "outputId": "d5864da3-8e74-40f6-9c17-0f4c6d72329b"
   },
   "outputs": [
    {
     "name": "stdout",
     "output_type": "stream",
     "text": [
      "     pcost       dcost       gap    pres   dres\n",
      " 0: -1.4091e-03 -1.0017e+00  1e+00  4e-16  2e+00\n",
      " 1: -1.4092e-03 -1.1682e-02  1e-02  2e-16  2e-02\n",
      " 2: -1.4193e-03 -1.7215e-03  3e-04  8e-17  7e-04\n",
      " 3: -1.4408e-03 -1.4609e-03  2e-05  2e-16  2e-05\n",
      " 4: -1.4414e-03 -1.4417e-03  3e-07  1e-16  2e-07\n",
      " 5: -1.4414e-03 -1.4414e-03  3e-09  8e-17  2e-09\n",
      "Optimal solution found.\n",
      "[ 2.16e-01]\n",
      "[ 4.02e-01]\n",
      "[ 3.82e-01]\n",
      "\n"
     ]
    }
   ],
   "source": [
    "print(quadraticProgramming(mnCov,vnMean,0.05)['x'])"
   ]
  },
  {
   "cell_type": "code",
   "execution_count": null,
   "metadata": {
    "colab": {
     "base_uri": "https://localhost:8080/",
     "height": 1000
    },
    "id": "VPMgLUnWuqPc",
    "outputId": "1e71adca-8921-43f1-8e5a-fc97b44de3c4"
   },
   "outputs": [
    {
     "name": "stdout",
     "output_type": "stream",
     "text": [
      "     pcost       dcost       gap    pres   dres\n",
      " 0:  2.4223e-03 -9.9855e-01  1e+00  2e-16  2e+00\n",
      " 1:  2.4209e-03 -8.5468e-03  1e-02  1e-16  3e-02\n",
      " 2:  2.3274e-03  1.4834e-03  8e-04  1e-16  2e-03\n",
      " 3:  2.1197e-03  1.9865e-03  1e-04  2e-16  1e-18\n",
      " 4:  2.0949e-03  2.0829e-03  1e-05  0e+00  5e-19\n",
      " 5:  2.0920e-03  2.0906e-03  1e-06  1e-16  6e-19\n",
      " 6:  2.0919e-03  2.0918e-03  5e-08  3e-16  9e-19\n",
      "Optimal solution found.\n",
      "     pcost       dcost       gap    pres   dres\n",
      " 0:  1.6565e-03 -9.9905e-01  1e+00  3e-16  2e+00\n",
      " 1:  1.6557e-03 -9.0480e-03  1e-02  2e-16  2e-02\n",
      " 2:  1.6002e-03  9.4825e-04  7e-04  8e-17  1e-03\n",
      " 3:  1.4786e-03  1.3956e-03  8e-05  6e-17  4e-19\n",
      " 4:  1.4695e-03  1.4639e-03  6e-06  6e-17  6e-19\n",
      " 5:  1.4693e-03  1.4692e-03  8e-08  2e-16  8e-19\n",
      "Optimal solution found.\n",
      "     pcost       dcost       gap    pres   dres\n",
      " 0:  8.9051e-04 -9.9955e-01  1e+00  2e-16  2e+00\n",
      " 1:  8.9011e-04 -9.5492e-03  1e-02  8e-17  2e-02\n",
      " 2:  8.6274e-04  4.1072e-04  5e-04  2e-16  1e-03\n",
      " 3:  8.0652e-04  7.6747e-04  4e-05  1e-16  8e-19\n",
      " 4:  8.0465e-04  8.0361e-04  1e-06  8e-17  8e-19\n",
      " 5:  8.0464e-04  8.0463e-04  1e-08  3e-17  5e-19\n",
      "Optimal solution found.\n",
      "     pcost       dcost       gap    pres   dres\n",
      " 0:  1.2422e-04 -1.0001e+00  1e+00  2e-16  2e+00\n",
      " 1:  1.2408e-04 -1.0082e-02  1e-02  6e-17  2e-02\n",
      " 2:  1.1423e-04 -1.2991e-04  2e-04  1e-16  6e-04\n",
      " 3:  9.8137e-05  8.6213e-05  1e-05  1e-16  6e-06\n",
      " 4:  9.7989e-05  9.7859e-05  1e-07  1e-16  6e-08\n",
      " 5:  9.7989e-05  9.7988e-05  1e-09  8e-17  6e-10\n",
      "Optimal solution found.\n",
      "     pcost       dcost       gap    pres   dres\n",
      " 0: -6.4231e-04 -1.0009e+00  1e+00  2e-16  2e+00\n",
      " 1: -6.4237e-04 -1.0882e-02  1e-02  2e-16  2e-02\n",
      " 2: -6.4622e-04 -9.1837e-04  3e-04  6e-17  6e-04\n",
      " 3: -6.5068e-04 -6.5463e-04  4e-06  6e-17  5e-06\n",
      " 4: -6.5068e-04 -6.5072e-04  4e-08  1e-16  5e-08\n",
      "Optimal solution found.\n",
      "     pcost       dcost       gap    pres   dres\n",
      " 0: -1.4091e-03 -1.0017e+00  1e+00  4e-16  2e+00\n",
      " 1: -1.4092e-03 -1.1682e-02  1e-02  2e-16  2e-02\n",
      " 2: -1.4193e-03 -1.7215e-03  3e-04  8e-17  7e-04\n",
      " 3: -1.4408e-03 -1.4609e-03  2e-05  2e-16  2e-05\n",
      " 4: -1.4414e-03 -1.4417e-03  3e-07  1e-16  2e-07\n",
      " 5: -1.4414e-03 -1.4414e-03  3e-09  8e-17  2e-09\n",
      "Optimal solution found.\n",
      "     pcost       dcost       gap    pres   dres\n",
      " 0: -2.1761e-03 -1.0025e+00  1e+00  2e-16  2e+00\n",
      " 1: -2.1765e-03 -1.2490e-02  1e-02  2e-16  2e-02\n",
      " 2: -2.2044e-03 -2.5519e-03  3e-04  2e-16  8e-04\n",
      " 3: -2.2697e-03 -2.3056e-03  4e-05  0e+00  3e-19\n",
      " 4: -2.2741e-03 -2.2762e-03  2e-06  3e-17  7e-19\n",
      " 5: -2.2741e-03 -2.2741e-03  2e-08  8e-17  5e-19\n",
      "Optimal solution found.\n",
      "     pcost       dcost       gap    pres   dres\n",
      " 0: -2.9434e-03 -1.0035e+00  1e+00  2e-16  2e+00\n",
      " 1: -2.9442e-03 -1.3489e-02  1e-02  6e-17  2e-02\n",
      " 2: -2.9999e-03 -3.5112e-03  5e-04  6e-17  1e-03\n",
      " 3: -3.1282e-03 -3.1895e-03  6e-05  1e-16  4e-06\n",
      " 4: -3.1470e-03 -3.1552e-03  8e-06  1e-16  8e-19\n",
      " 5: -3.1488e-03 -3.1497e-03  9e-07  1e-16  7e-19\n",
      " 6: -3.1488e-03 -3.1489e-03  2e-08  1e-16  9e-19\n",
      "Optimal solution found.\n",
      "     pcost       dcost       gap    pres   dres\n",
      " 0: -3.7110e-03 -1.0045e+00  1e+00  1e-16  2e+00\n",
      " 1: -3.7123e-03 -1.4487e-02  1e-02  1e-16  2e-02\n",
      " 2: -3.8048e-03 -4.4727e-03  7e-04  2e-16  2e-03\n",
      " 3: -4.0079e-03 -4.0913e-03  8e-05  2e-16  1e-05\n",
      " 4: -4.0490e-03 -4.0588e-03  1e-05  1e-16  5e-19\n",
      " 5: -4.0563e-03 -4.0569e-03  6e-07  1e-16  8e-19\n",
      " 6: -4.0569e-03 -4.0569e-03  7e-09  1e-16  7e-19\n",
      "Optimal solution found.\n",
      "     pcost       dcost       gap    pres   dres\n",
      " 0: -4.4788e-03 -1.0055e+00  1e+00  2e-16  2e+00\n",
      " 1: -4.4809e-03 -1.5486e-02  1e-02  1e-16  3e-02\n",
      " 2: -4.6182e-03 -5.4360e-03  8e-04  2e-16  2e-03\n",
      " 3: -4.9034e-03 -5.0031e-03  1e-04  2e-16  1e-05\n",
      " 4: -4.9640e-03 -4.9713e-03  7e-06  1e-17  3e-08\n",
      " 5: -4.9705e-03 -4.9706e-03  1e-07  2e-16  3e-10\n",
      "Optimal solution found.\n"
     ]
    }
   ],
   "source": [
    "portNumWeight = [np.array(quadraticProgramming(mnCov,vnMean,num)['x']) for num in np.arange(0.0,0.1,0.01)];"
   ]
  },
  {
   "cell_type": "code",
   "execution_count": null,
   "metadata": {
    "colab": {
     "base_uri": "https://localhost:8080/",
     "height": 68
    },
    "id": "3OEaNw2XykDA",
    "outputId": "a3be6fe3-8b23-453d-9f00-041a8582ca26"
   },
   "outputs": [
    {
     "data": {
      "text/plain": [
       "array([[0.49410891],\n",
       "       [0.33649095],\n",
       "       [0.16940014]])"
      ]
     },
     "execution_count": 184,
     "metadata": {
      "tags": []
     },
     "output_type": "execute_result"
    }
   ],
   "source": [
    "portNumWeight[1]"
   ]
  },
  {
   "cell_type": "code",
   "execution_count": null,
   "metadata": {
    "id": "9JDIE3f-vknL"
   },
   "outputs": [],
   "source": [
    "portNum=np.array([ xPortSdevMean(np.transpose(i),vnMean,mnCov) for i in portNumWeight])"
   ]
  },
  {
   "cell_type": "code",
   "execution_count": null,
   "metadata": {
    "colab": {
     "base_uri": "https://localhost:8080/",
     "height": 313
    },
    "id": "ao4etMpuxybk",
    "outputId": "c7e54fe8-34ca-4ad5-b75f-b323edd64de7"
   },
   "outputs": [
    {
     "data": {
      "text/plain": [
       "<matplotlib.legend.Legend at 0x7f7bd4672ac8>"
      ]
     },
     "execution_count": 189,
     "metadata": {
      "tags": []
     },
     "output_type": "execute_result"
    },
    {
     "data": {
      "image/png": "[encoded data removed]",
      "text/plain": [
       "<Figure size 432x288 with 1 Axes>"
      ]
     },
     "metadata": {
      "needs_background": "light",
      "tags": []
     },
     "output_type": "display_data"
    }
   ],
   "source": [
    "plt.plot(portNum[:,1],portNum[:,0],'go',label='Quadratic Program ')\n",
    "plt.ylabel('Expected value | Return ',)\n",
    "plt.xlabel('Standard deviation | Risk')\n",
    "plt.title('Simulated Feasible Portfolios')\n",
    "plt.legend()"
   ]
  },
  {
   "cell_type": "markdown",
   "metadata": {
    "id": "_gISBWOVg1yi"
   },
   "source": [
    "# **Reading Finance data from Yahoo**"
   ]
  },
  {
   "cell_type": "code",
   "execution_count": null,
   "metadata": {
    "id": "RJ2TFWwegoOj"
   },
   "outputs": [],
   "source": []
  },
  {
   "cell_type": "code",
   "execution_count": null,
   "metadata": {},
   "outputs": [],
   "source": []
  },
  {
   "cell_type": "code",
   "execution_count": null,
   "metadata": {
    "id": "35cFurgkhWC3"
   },
   "outputs": [],
   "source": [
    "# For time stamps \n",
    "from datetime import datetime\n",
    "from pandas_datareader import data, wb\n",
    "\n",
    "# The tech stocks we'll use for this analysis\n",
    "tech_list = ['AAPL','GOOG','MSFT','SNP']\n",
    "\n",
    "# Set up End and Start times for data grab\n",
    "end = datetime.now()\n",
    "start = datetime(end.year - 1,end.month,end.day)\n",
    "\n",
    "\n",
    "# #For loop for grabing yahoo finance data and setting as a dataframe\n",
    "# panel_data = data.DataReader('INPX', 'yahoo', start, end)\n",
    "\n",
    "for stock in tech_list:   \n",
    "    # Set DataFrame as the Stock Ticker\n",
    "    globals()[stock] = data.DataReader(stock,'yahoo',start,end)"
   ]
  },
  {
   "cell_type": "code",
   "execution_count": null,
   "metadata": {
    "colab": {
     "base_uri": "https://localhost:8080/",
     "height": 297
    },
    "id": "UwQpVZWWh8u3",
    "outputId": "02696189-aba3-4ef9-a375-407de1f04540"
   },
   "outputs": [
    {
     "data": {
      "text/html": [
       "<div>\n",
       "<style scoped>\n",
       "    .dataframe tbody tr th:only-of-type {\n",
       "        vertical-align: middle;\n",
       "    }\n",
       "\n",
       "    .dataframe tbody tr th {\n",
       "        vertical-align: top;\n",
       "    }\n",
       "\n",
       "    .dataframe thead th {\n",
       "        text-align: right;\n",
       "    }\n",
       "</style>\n",
       "<table border=\"1\" class=\"dataframe\">\n",
       "  <thead>\n",
       "    <tr style=\"text-align: right;\">\n",
       "      <th></th>\n",
       "      <th>High</th>\n",
       "      <th>Low</th>\n",
       "      <th>Open</th>\n",
       "      <th>Close</th>\n",
       "      <th>Volume</th>\n",
       "      <th>Adj Close</th>\n",
       "    </tr>\n",
       "  </thead>\n",
       "  <tbody>\n",
       "    <tr>\n",
       "      <th>count</th>\n",
       "      <td>252.000000</td>\n",
       "      <td>252.000000</td>\n",
       "      <td>252.000000</td>\n",
       "      <td>252.000000</td>\n",
       "      <td>2.520000e+02</td>\n",
       "      <td>252.000000</td>\n",
       "    </tr>\n",
       "    <tr>\n",
       "      <th>mean</th>\n",
       "      <td>291.861746</td>\n",
       "      <td>284.903413</td>\n",
       "      <td>287.969881</td>\n",
       "      <td>288.781468</td>\n",
       "      <td>3.593084e+07</td>\n",
       "      <td>287.279108</td>\n",
       "    </tr>\n",
       "    <tr>\n",
       "      <th>std</th>\n",
       "      <td>56.288910</td>\n",
       "      <td>54.779926</td>\n",
       "      <td>55.463582</td>\n",
       "      <td>55.754593</td>\n",
       "      <td>1.726080e+07</td>\n",
       "      <td>56.197139</td>\n",
       "    </tr>\n",
       "    <tr>\n",
       "      <th>min</th>\n",
       "      <td>202.050003</td>\n",
       "      <td>199.149994</td>\n",
       "      <td>199.619995</td>\n",
       "      <td>200.479996</td>\n",
       "      <td>1.165440e+07</td>\n",
       "      <td>198.510406</td>\n",
       "    </tr>\n",
       "    <tr>\n",
       "      <th>25%</th>\n",
       "      <td>249.937500</td>\n",
       "      <td>241.662498</td>\n",
       "      <td>247.014996</td>\n",
       "      <td>246.315002</td>\n",
       "      <td>2.439980e+07</td>\n",
       "      <td>244.351742</td>\n",
       "    </tr>\n",
       "    <tr>\n",
       "      <th>50%</th>\n",
       "      <td>285.360001</td>\n",
       "      <td>278.679993</td>\n",
       "      <td>281.449997</td>\n",
       "      <td>283.070007</td>\n",
       "      <td>3.119720e+07</td>\n",
       "      <td>281.797729</td>\n",
       "    </tr>\n",
       "    <tr>\n",
       "      <th>75%</th>\n",
       "      <td>322.842491</td>\n",
       "      <td>316.692490</td>\n",
       "      <td>319.437500</td>\n",
       "      <td>319.230011</td>\n",
       "      <td>4.167190e+07</td>\n",
       "      <td>318.209122</td>\n",
       "    </tr>\n",
       "    <tr>\n",
       "      <th>max</th>\n",
       "      <td>457.649994</td>\n",
       "      <td>441.170013</td>\n",
       "      <td>452.820007</td>\n",
       "      <td>455.609985</td>\n",
       "      <td>1.067212e+08</td>\n",
       "      <td>454.790009</td>\n",
       "    </tr>\n",
       "  </tbody>\n",
       "</table>\n",
       "</div>"
      ],
      "text/plain": [
       "             High         Low        Open       Close        Volume   Adj Close\n",
       "count  252.000000  252.000000  252.000000  252.000000  2.520000e+02  252.000000\n",
       "mean   291.861746  284.903413  287.969881  288.781468  3.593084e+07  287.279108\n",
       "std     56.288910   54.779926   55.463582   55.754593  1.726080e+07   56.197139\n",
       "min    202.050003  199.149994  199.619995  200.479996  1.165440e+07  198.510406\n",
       "25%    249.937500  241.662498  247.014996  246.315002  2.439980e+07  244.351742\n",
       "50%    285.360001  278.679993  281.449997  283.070007  3.119720e+07  281.797729\n",
       "75%    322.842491  316.692490  319.437500  319.230011  4.167190e+07  318.209122\n",
       "max    457.649994  441.170013  452.820007  455.609985  1.067212e+08  454.790009"
      ]
     },
     "execution_count": 12,
     "metadata": {
      "tags": []
     },
     "output_type": "execute_result"
    }
   ],
   "source": [
    "AAPL.describe()"
   ]
  },
  {
   "cell_type": "code",
   "execution_count": null,
   "metadata": {
    "colab": {
     "base_uri": "https://localhost:8080/",
     "height": 294
    },
    "id": "7o7LSIWZiDfm",
    "outputId": "0f56d6bc-0031-47ef-b305-5645e757693b"
   },
   "outputs": [
    {
     "data": {
      "text/plain": [
       "<matplotlib.axes._subplots.AxesSubplot at 0x7f8addca4d68>"
      ]
     },
     "execution_count": 13,
     "metadata": {
      "tags": []
     },
     "output_type": "execute_result"
    },
    {
     "data": {
      "image/png": "[encoded data removed]",
      "text/plain": [
       "<Figure size 720x288 with 1 Axes>"
      ]
     },
     "metadata": {
      "needs_background": "light",
      "tags": []
     },
     "output_type": "display_data"
    }
   ],
   "source": [
    "# Let's see a historical view of the closing price\n",
    "AAPL['Adj Close'].plot(legend=True,figsize=(10,4))"
   ]
  },
  {
   "cell_type": "code",
   "execution_count": null,
   "metadata": {
    "colab": {
     "base_uri": "https://localhost:8080/",
     "height": 294
    },
    "id": "aqOvHg2qiG4t",
    "outputId": "4f6368f6-da8d-40f3-8ee0-2b1e636c761d"
   },
   "outputs": [
    {
     "data": {
      "text/plain": [
       "<matplotlib.axes._subplots.AxesSubplot at 0x7f8addd091d0>"
      ]
     },
     "execution_count": 14,
     "metadata": {
      "tags": []
     },
     "output_type": "execute_result"
    },
    {
     "data": {
      "image/png": "[encoded data removed]",
      "text/plain": [
       "<Figure size 720x288 with 1 Axes>"
      ]
     },
     "metadata": {
      "needs_background": "light",
      "tags": []
     },
     "output_type": "display_data"
    }
   ],
   "source": [
    "# Let's see a historical view of the closing price\n",
    "SNP['Adj Close'].plot(legend=True,figsize=(10,4))"
   ]
  },
  {
   "cell_type": "code",
   "execution_count": null,
   "metadata": {
    "id": "vkFPbIphhOwR"
   },
   "outputs": [],
   "source": []
  },
  {
   "cell_type": "code",
   "execution_count": null,
   "metadata": {
    "id": "LnkMluGjhQio"
   },
   "outputs": [],
   "source": []
  },
  {
   "cell_type": "code",
   "execution_count": null,
   "metadata": {
    "id": "VHpp6WYtt38e"
   },
   "outputs": [],
   "source": []
  },
  {
   "cell_type": "markdown",
   "metadata": {
    "id": "w7NVvrnPk_Wf"
   },
   "source": [
    "# **Markowitz's Modern Portfolio Theory: Mean-Variance Portfolios**\n",
    "\n",
    "> Modern Portfolio Theory or MPT is widely used as the basis for constructing portfolios. It assumes that asset returns can be modeled using a multivariate Normal distribution and further assumes that risk is measured by a portfolio's variance (or equivalently standard deviation) of return and reward is measured by a portfolio's expected value of return.\\\n",
    "\\\n",
    "Despite concerns about the reasonableness of these assumptions, MPT provides a framework for selecting portfolios based on a trade-off of risk and reward. MPT leads an investor to allocate capital based on the overall characteristics of the portfolio rather than allocating capital to individual assets on a case-by-case basis without considering how the performance of individual assets may interact.\\\n",
    "\\\n",
    "See http://en.wikipedia.org/wiki/Modern_portfolio_theory.\n",
    "\n",
    "\n"
   ]
  },
  {
   "cell_type": "markdown",
   "metadata": {
    "id": "xRXSPX3-nuLQ"
   },
   "source": [
    "## **The Markowitz model** ##\n",
    "### *Portfolio Mean and Variance*\n",
    ">Portfolio Mean:\n",
    "$$\\mu_P = \\mathbf{\\mu}^{T}\\mathbf{x}.$$\n",
    "Portfolio Variance:\n",
    "$$\\sigma_P^2 = \\mathbf{x}^{T} \\mathbf{\\Sigma} \\mathbf{x}.$$"
   ]
  },
  {
   "cell_type": "markdown",
   "metadata": {
    "id": "OTgq-9eKnwvR"
   },
   "source": [
    "### *Balacing Risk & Reward*\n",
    ">Trade-off risk and reward. In what follows the set $\\mathcal{S}$ is typically convex and frequently expressed as a system of linear constraints. The general form is the quadratic program:\n",
    "$$\\min\\left\\{\\dfrac{1}{2}\\mathbf{x}^T\\mathbf{\\Sigma}\\mathbf{x}-\\lambda\\mathbf{\\mu}^T\\mathbf{x} \\, | \\, \\mathbf{x} \\in \\mathcal{S}\\right\\}, 0 \\leq \\lambda \\leq +\\infty.$$\n",
    "\\\n",
    "Minimum variance portfolio ($\\lambda \\rightarrow 0$):\n",
    "$$\\min\\left\\{\\dfrac{1}{2}\\mathbf{x}^T\\mathbf{\\Sigma}\\mathbf{x} \\, | \\, \\mathbf{x} \\in \\mathcal{S}\\right\\}.$$\n",
    "\\\n",
    "Maximum return portfolio, which simplifies to a linear program ($\\lambda \\rightarrow +\\infty$):\n",
    "$$\\min\\left\\{-\\mathbf{\\mu}^T\\mathbf{x} \\, | \\, \\mathbf{x} \\in \\mathcal{S}\\right\\}.$$\n",
    "\\\n",
    "Minimize risk at target rate of return:\n",
    "$$\\min\\left\\{\\dfrac{1}{2}\\mathbf{x}^T\\mathbf{\\Sigma}\\mathbf{x} \\, | \\, \\mathbf{\\mu}^T\\mathbf{x} \\geq \\tau \\wedge \\mathbf{x} \\in \\mathcal{S}\\right\\}.$$\n",
    "\\\n",
    "Maximize return at a target level of risk:\n",
    "$$\\max\\left\\{\\mathbf{\\mu}^T\\mathbf{x} \\, | \\, \\mathbf{x}^T\\mathbf{\\Sigma}\\mathbf{x} = q \\wedge \\mathbf{x} \\in \\mathcal{S}\\right\\}.$$"
   ]
  },
  {
   "cell_type": "markdown",
   "metadata": {
    "id": "4PMeByIhnzJb"
   },
   "source": [
    "## **Monte Carlo Simulation**\n",
    ">Consider the case where the capital is assumed to be equal to 1 (*i.e.*, $\\mathbf{x}$ represents proportional allocation) and no short positions are allowed.\n",
    "$$\\mathcal{P}_{\\mathrm{Feasible}} = \\left\\{\\left\\{\\mathbf{x}^T\\mathbf{\\Sigma}\\mathbf{x},\\mathbf{\\mu}^T\\mathbf{x}\\right\\} \\, | \\, \\mathbf{x}^T\\mathbf{1} = 1 \\wedge \\mathbf{x} \\geq \\mathbf{0}\\right\\}.$$\n",
    "The strategy is to simulate a large number of feasible portfolios and examine their behavior in $\\{\\sigma^2,\\mu\\}$-space.\\\n",
    "A covariance matrix can be constructed by specifying the correlation and volatility separately. The strategy for this is based on the following:\n",
    "$$\\sigma_{x,y} = \\rho_{x,y}\\sigma_x\\sigma_y.$$"
   ]
  },
  {
   "cell_type": "code",
   "execution_count": null,
   "metadata": {
    "colab": {
     "base_uri": "https://localhost:8080/",
     "height": 218
    },
    "id": "Y5MELaIfizVj",
    "outputId": "ee7b14ea-fb0a-4e8a-fc7f-61ecc705822a"
   },
   "outputs": [
    {
     "name": "stdout",
     "output_type": "stream",
     "text": [
      "μ =  [[0.05]\n",
      " [0.08]\n",
      " [0.1 ]]\n",
      "σ =  [[0.07]\n",
      " [0.09]\n",
      " [0.1 ]]\n",
      "C =  [[1.  0.4 0.6]\n",
      " [0.4 1.  0.4]\n",
      " [0.6 0.4 1. ]]\n",
      "Σ =  [[0.0049  0.00252 0.0042 ]\n",
      " [0.00252 0.0081  0.0036 ]\n",
      " [0.0042  0.0036  0.01   ]]\n"
     ]
    }
   ],
   "source": [
    "vnMean = np.array([0.05, 0.08, 0.10])\n",
    "vnSigma = np.array([0.07, 0.09, 0.10])\n",
    "mnCor = np.array([[1, 0.4, 0.6], [0.4, 1, 0.4], [0.6, 0.4, 1]])\n",
    "mnCov = np.kron(vnSigma,vnSigma).reshape(3,3)*np.array(mnCor)\n",
    "print(\"\\u03BC = \", np.array(vnMean).reshape(-1,1))\n",
    "print(\"\\u03C3 = \", np.array(vnSigma).reshape(-1,1))\n",
    "print(\"C = \", mnCor)\n",
    "print(\"\\u03A3 = \", mnCov)"
   ]
  },
  {
   "cell_type": "markdown",
   "metadata": {
    "id": "nbPYAWSkGKDW"
   },
   "source": [
    ">In generating random feasible portfolios, we will assume that short positions are not permitted, *i.e.*, $x_i \\geq 0$. The simulation will produce 10,000 cases for analysis.\\\n",
    "\\\n",
    "A straightforward way to sample from the set of feasible portfolios is:"
   ]
  },
  {
   "cell_type": "code",
   "execution_count": null,
   "metadata": {
    "colab": {
     "base_uri": "https://localhost:8080/",
     "height": 88
    },
    "id": "PHOBbangqzMs",
    "outputId": "2b8833e1-c02b-43e0-8eaf-bd269375aa77"
   },
   "outputs": [
    {
     "name": "stdout",
     "output_type": "stream",
     "text": [
      "[0.920246751328949, 0.7224665328498063]\n",
      "[0.5601992509538934, 0.4398007490461066]\n"
     ]
    },
    {
     "data": {
      "image/png": "[encoded data removed]",
      "text/plain": [
       "<Figure size 432x288 with 1 Axes>"
      ]
     },
     "metadata": {
      "needs_background": "light",
      "tags": []
     },
     "output_type": "display_data"
    }
   ],
   "source": [
    "list1 = np.random.uniform(0,1,2).tolist()\n",
    "list2 = [i/sum(list1) for i in list1]\n",
    "print(list1)\n",
    "print(list2)\n",
    "plt.plot(list1,list2)\n",
    "plt.show()"
   ]
  },
  {
   "cell_type": "code",
   "execution_count": null,
   "metadata": {
    "id": "muGMI8TXHnDB"
   },
   "outputs": [],
   "source": [
    "NumberOfAssets = len(vnMean)\n",
    "NumberOfSamples = 100000\n",
    "\n",
    "def NormalizedList(n):\n",
    "  # returns a list of n  normalized numbers generated from a normal distribution \n",
    "  # This are the weights for the portifolio \n",
    "  List1= np.random.uniform(0,1,n)\n",
    "  NormalizedList= [i/sum(List1) for i in List1]\n",
    "  return NormalizedList\n",
    "\n",
    "def xRandomPortfolio(nAssets,nSample):\n",
    "  # Here, we generate -nSamples-  of portifolio weights given by NormalizedList\n",
    "  return np.array([NormalizedList(nAssets) for i in range(nSample)])\n",
    "\n",
    "def xPortSdevMean(PortWeight,AssetsMean,AssetsSigma):\n",
    "  # The mean of the portifolio.  \n",
    "  # Mean.x:\n",
    "  PortMean = AssetsMean.dot(PortWeight.transpose())\n",
    "  # Standart deviation for the portifolio\n",
    "  # sqrt (x.CovarianceMatrix.x) :\n",
    "  PortStandDev=np.sqrt(PortWeight.dot(PortWeight.dot(AssetsSigma).transpose()))\n",
    "\n",
    "  return [PortMean, PortStandDev]\n",
    "\n",
    "def EffiPortFilter(data):\n",
    "  #Sort the np array data by the standart deviation columm \n",
    "  DataSort =  data[np.argsort(data[:,1])]\n",
    "    #  np.argsort(data[:,1])\n",
    "    # Select the portifolio -i- only if it has a return -i[0]-\n",
    "    # bigger than it's priviews\n",
    "  lis =[]\n",
    "  lis.append(DataSort[0])\n",
    "  for i in DataSort:\n",
    "    if i[0] > lis[len(lis) -1][0]:\n",
    "      lis.append(i)\n",
    "  return np.array(lis)\n",
    "\n",
    "# Maybe change the fucntion to get just one Weight at the time.\n",
    "# This function return a list of all the weights in for the Pareto optimal portifolio.\n",
    "def EffiPortWeights(Portlist, EffPortlist,WeightList):\n",
    "\n",
    "  filter = [ (Portlist[:,0]==Element[0]) & (Portlist[:,1]==Element[1]) for Element in EffPortlist ]\n",
    "  return [ WeightList[i] for i in filter];\n"
   ]
  },
  {
   "cell_type": "markdown",
   "metadata": {
    "id": "fUyPFG9LSVMF"
   },
   "source": [
    "Generates -NumberOfSamples- of portifolio weights:"
   ]
  },
  {
   "cell_type": "code",
   "execution_count": null,
   "metadata": {
    "id": "4mk_fcVB2JAu"
   },
   "outputs": [],
   "source": [
    "x = xRandomPortfolio(3,NumberOfSamples)"
   ]
  },
  {
   "cell_type": "code",
   "execution_count": null,
   "metadata": {
    "colab": {
     "base_uri": "https://localhost:8080/",
     "height": 54
    },
    "id": "RGNlYU8JrNcN",
    "outputId": "17d30cd5-ce25-4191-d755-a5704995425e"
   },
   "outputs": [
    {
     "data": {
      "text/plain": [
       "array([0.27262668, 0.35709274, 0.37028058])"
      ]
     },
     "execution_count": 195,
     "metadata": {
      "tags": []
     },
     "output_type": "execute_result"
    }
   ],
   "source": [
    "x[0]"
   ]
  },
  {
   "cell_type": "markdown",
   "metadata": {
    "id": "TEQznUFJRbTr"
   },
   "source": [
    "Computes the pair (Portifolion Mean, Portifolio Std ) for each portifolio generated "
   ]
  },
  {
   "cell_type": "code",
   "execution_count": null,
   "metadata": {
    "id": "fdrzP9pB2Oo2"
   },
   "outputs": [],
   "source": [
    "PortList=np.array([xPortSdevMean(i,vnMean,mnCov) for i in x ])"
   ]
  },
  {
   "cell_type": "code",
   "execution_count": null,
   "metadata": {
    "colab": {
     "base_uri": "https://localhost:8080/",
     "height": 156
    },
    "id": "BxFjdT6CsEKB",
    "outputId": "cad7bef6-245f-487c-9dd1-9fc201c03def"
   },
   "outputs": [
    {
     "data": {
      "text/plain": [
       "array([[0.07922681, 0.07112515],\n",
       "       [0.08524495, 0.07914508],\n",
       "       [0.08020735, 0.07460425],\n",
       "       ...,\n",
       "       [0.07733561, 0.07035215],\n",
       "       [0.07185362, 0.07049442],\n",
       "       [0.06345412, 0.06505879]])"
      ]
     },
     "execution_count": 197,
     "metadata": {
      "tags": []
     },
     "output_type": "execute_result"
    }
   ],
   "source": [
    "PortList"
   ]
  },
  {
   "cell_type": "markdown",
   "metadata": {
    "id": "KOJVn7VuQ-7Y"
   },
   "source": [
    "Select the pareto optimal portifolio"
   ]
  },
  {
   "cell_type": "code",
   "execution_count": null,
   "metadata": {
    "id": "wcIJ3ZE85s9m"
   },
   "outputs": [],
   "source": [
    "EffiPortList= EffiPortFilter(PortList)"
   ]
  },
  {
   "cell_type": "code",
   "execution_count": null,
   "metadata": {
    "colab": {
     "base_uri": "https://localhost:8080/",
     "height": 71
    },
    "id": "3gnvr3A8527B",
    "outputId": "50ed2cc1-5725-4186-e6a1-fb4b5e04ad75"
   },
   "outputs": [
    {
     "data": {
      "text/plain": [
       "<matplotlib.legend.Legend at 0x7f7bd506d160>"
      ]
     },
     "execution_count": 199,
     "metadata": {
      "tags": []
     },
     "output_type": "execute_result"
    },
    {
     "data": {
      "image/png": "[encoded data removed]",
      "text/plain": [
       "<Figure size 432x288 with 1 Axes>"
      ]
     },
     "metadata": {
      "needs_background": "light",
      "tags": []
     },
     "output_type": "display_data"
    }
   ],
   "source": [
    "plt.plot(PortList[:,1],PortList[:,0],'.',label='Monte Carlo')\n",
    "plt.plot(EffiPortList[:,1],EffiPortList[:,0],'r.',label='Optimal Portifolio')\n",
    "plt.ylabel('Expected value | Return ')\n",
    "plt.xlabel('Standard deviation | Risk')\n",
    "plt.title('Simulated Feasible Portfolios')\n",
    "plt.legend()"
   ]
  },
  {
   "cell_type": "code",
   "execution_count": null,
   "metadata": {
    "id": "U8u4tA4BjCRG"
   },
   "outputs": [],
   "source": [
    "WeightListEffi = EffiPortWeights(PortList,EffiPortList,x)"
   ]
  },
  {
   "cell_type": "code",
   "execution_count": null,
   "metadata": {
    "id": "c4_wsijGsavq"
   },
   "outputs": [],
   "source": []
  },
  {
   "cell_type": "code",
   "execution_count": null,
   "metadata": {
    "colab": {
     "base_uri": "https://localhost:8080/",
     "height": 54
    },
    "id": "G8AWK__wka9U",
    "outputId": "2818a11b-546e-48e4-ea52-673a5c8508af"
   },
   "outputs": [
    {
     "data": {
      "text/plain": [
       "array([[0.67392617, 0.29234776, 0.03372607]])"
      ]
     },
     "execution_count": 201,
     "metadata": {
      "tags": []
     },
     "output_type": "execute_result"
    }
   ],
   "source": [
    "WeightListEffi[1]"
   ]
  },
  {
   "cell_type": "code",
   "execution_count": null,
   "metadata": {
    "id": "LIllR4dinuqE"
   },
   "outputs": [],
   "source": []
  },
  {
   "cell_type": "code",
   "execution_count": null,
   "metadata": {
    "id": "Eg1hLzQNnkhz"
   },
   "outputs": [],
   "source": []
  },
  {
   "cell_type": "markdown",
   "metadata": {
    "id": "iZgj-e0OvPEe"
   },
   "source": [
    "# Analytical Solution \n"
   ]
  },
  {
   "cell_type": "code",
   "execution_count": null,
   "metadata": {
    "id": "V27OuG9IvVwC"
   },
   "outputs": [],
   "source": [
    "def xOptimalPortfolio(PortCovar,PortMean,L):\n",
    "\n",
    "  InverseCovar = np.linalg.inv(PortCovar)\n",
    " # InverseCovar.sum() return the sum of all elements = 1T.M.1 \n",
    "  LagrangeMulti = (1 - L*InverseCovar.dot(PortMean).sum())/ InverseCovar.sum()\n",
    "  return L* InverseCovar.dot(PortMean) + LagrangeMulti*InverseCovar.dot([1,1,1])\n"
   ]
  },
  {
   "cell_type": "code",
   "execution_count": null,
   "metadata": {
    "colab": {
     "base_uri": "https://localhost:8080/",
     "height": 34
    },
    "id": "8eER2Jga0C0p",
    "outputId": "8500c2e0-cb85-4ae1-b449-bfb043b5f2ea"
   },
   "outputs": [
    {
     "data": {
      "text/plain": [
       "array([0.40134564, 0.35831638, 0.24033798])"
      ]
     },
     "execution_count": 203,
     "metadata": {
      "tags": []
     },
     "output_type": "execute_result"
    }
   ],
   "source": [
    "xOptimalPortfolio(mnCov,vnMean,0.03)"
   ]
  },
  {
   "cell_type": "code",
   "execution_count": null,
   "metadata": {
    "colab": {
     "base_uri": "https://localhost:8080/",
     "height": 34
    },
    "id": "P8ukYySgvA2L",
    "outputId": "d2eb85b1-7c69-41fd-c314-4c5f8f62e567"
   },
   "outputs": [
    {
     "data": {
      "text/plain": [
       "array([162.45039683,  69.99559083,   6.57242063])"
      ]
     },
     "execution_count": 204,
     "metadata": {
      "tags": []
     },
     "output_type": "execute_result"
    }
   ],
   "source": [
    "np.linalg.inv(mnCov).dot([1,1,1])"
   ]
  },
  {
   "cell_type": "code",
   "execution_count": null,
   "metadata": {
    "colab": {
     "base_uri": "https://localhost:8080/",
     "height": 34
    },
    "id": "VAYazuSEvQ6S",
    "outputId": "eb86defb-fb71-4142-e1ae-3958fcae77be"
   },
   "outputs": [
    {
     "data": {
      "text/plain": [
       "array([162.45039683,  69.99559083,   6.57242063])"
      ]
     },
     "execution_count": 205,
     "metadata": {
      "tags": []
     },
     "output_type": "execute_result"
    }
   ],
   "source": [
    "np.linalg.inv(mnCov).dot([1,1,1])"
   ]
  },
  {
   "cell_type": "code",
   "execution_count": null,
   "metadata": {
    "id": "Nr__Zz8vvRYp"
   },
   "outputs": [],
   "source": []
  },
  {
   "cell_type": "code",
   "execution_count": null,
   "metadata": {
    "id": "XHt3TxNgMwdS"
   },
   "outputs": [],
   "source": [
    "xEffi=[xOptimalPortfolio(mnCov,vnMean,i) for i in np.arange(0,0.1,0.01)]"
   ]
  },
  {
   "cell_type": "code",
   "execution_count": null,
   "metadata": {
    "id": "a6cd5dfiOD9Y"
   },
   "outputs": [],
   "source": [
    "PortEffiAnaly=np.array([xPortSdevMean(i,vnMean,mnCov) for i in xEffi])"
   ]
  },
  {
   "cell_type": "code",
   "execution_count": null,
   "metadata": {
    "colab": {
     "base_uri": "https://localhost:8080/",
     "height": 313
    },
    "id": "uli5lm-VOzlA",
    "outputId": "306a5e41-df78-44b5-8efa-9fb51a0843f0"
   },
   "outputs": [
    {
     "data": {
      "text/plain": [
       "<matplotlib.legend.Legend at 0x7f7bd462b6d8>"
      ]
     },
     "execution_count": 208,
     "metadata": {
      "tags": []
     },
     "output_type": "execute_result"
    },
    {
     "data": {
      "image/png": "[encoded data removed]",
      "text/plain": [
       "<Figure size 432x288 with 1 Axes>"
      ]
     },
     "metadata": {
      "needs_background": "light",
      "tags": []
     },
     "output_type": "display_data"
    }
   ],
   "source": [
    "#plt.plot(PortList[:,1],PortList[:,0],'.')\n",
    "plt.plot(EffiPortList[:,1],EffiPortList[:,0],'r.',label='Monte Carlo')\n",
    "plt.plot(PortEffiAnaly[:,1],PortEffiAnaly[:,0],'go',label='Analytical Sol')\n",
    "plt.ylabel('Expected value | Return ',)\n",
    "plt.xlabel('Standard deviation | Risk')\n",
    "plt.title('Simulated Feasible Portfolios')\n",
    "plt.legend()"
   ]
  },
  {
   "cell_type": "code",
   "execution_count": null,
   "metadata": {
    "colab": {
     "base_uri": "https://localhost:8080/",
     "height": 313
    },
    "id": "RvSBHX8PPFEy",
    "outputId": "b2986b79-728f-4e5a-9ae7-25e9ae9b217c"
   },
   "outputs": [
    {
     "data": {
      "text/plain": [
       "<matplotlib.legend.Legend at 0x7f7bd3cb0b70>"
      ]
     },
     "execution_count": 211,
     "metadata": {
      "tags": []
     },
     "output_type": "execute_result"
    },
    {
     "data": {
      "image/png": "[encoded data removed]",
      "text/plain": [
       "<Figure size 432x288 with 1 Axes>"
      ]
     },
     "metadata": {
      "needs_background": "light",
      "tags": []
     },
     "output_type": "display_data"
    }
   ],
   "source": [
    "\n",
    "plt.plot(EffiPortList[:,1],EffiPortList[:,0],'r.',label='Monte Carlo')\n",
    "plt.plot(PortEffiAnaly[:,1],PortEffiAnaly[:,0],'go',label='Analytical Sol')\n",
    "plt.plot(portNum[:,1],portNum[:,0],'b.',label='Quadratic Program ')\n",
    "plt.ylabel('Expected value | Return ',)\n",
    "plt.xlabel('Standard deviation | Risk')\n",
    "plt.title('Simulated Feasible Portfolios')\n",
    "plt.legend()"
   ]
  },
  {
   "cell_type": "markdown",
   "metadata": {
    "id": "OAzV6OyrV5DH"
   },
   "source": [
    "#A Look at Real Data"
   ]
  },
  {
   "cell_type": "markdown",
   "metadata": {
    "id": "R16fCgiDaI1M"
   },
   "source": [
    "Reading  Ficancial data from Yahoo: "
   ]
  },
  {
   "cell_type": "code",
   "execution_count": null,
   "metadata": {
    "colab": {
     "base_uri": "https://localhost:8080/",
     "height": 297
    },
    "id": "XT69kSUwV9pm",
    "outputId": "6f5603d5-5c69-4b92-f57c-c033851c32c3"
   },
   "outputs": [
    {
     "data": {
      "text/html": [
       "<div>\n",
       "<style scoped>\n",
       "    .dataframe tbody tr th:only-of-type {\n",
       "        vertical-align: middle;\n",
       "    }\n",
       "\n",
       "    .dataframe tbody tr th {\n",
       "        vertical-align: top;\n",
       "    }\n",
       "\n",
       "    .dataframe thead th {\n",
       "        text-align: right;\n",
       "    }\n",
       "</style>\n",
       "<table border=\"1\" class=\"dataframe\">\n",
       "  <thead>\n",
       "    <tr style=\"text-align: right;\">\n",
       "      <th></th>\n",
       "      <th>High</th>\n",
       "      <th>Low</th>\n",
       "      <th>Open</th>\n",
       "      <th>Close</th>\n",
       "      <th>Volume</th>\n",
       "      <th>Adj Close</th>\n",
       "    </tr>\n",
       "  </thead>\n",
       "  <tbody>\n",
       "    <tr>\n",
       "      <th>count</th>\n",
       "      <td>23285.000000</td>\n",
       "      <td>23285.000000</td>\n",
       "      <td>23285.000000</td>\n",
       "      <td>23285.000000</td>\n",
       "      <td>2.328500e+04</td>\n",
       "      <td>23285.000000</td>\n",
       "    </tr>\n",
       "    <tr>\n",
       "      <th>mean</th>\n",
       "      <td>484.922614</td>\n",
       "      <td>479.070240</td>\n",
       "      <td>482.092216</td>\n",
       "      <td>482.190826</td>\n",
       "      <td>7.633524e+08</td>\n",
       "      <td>482.190826</td>\n",
       "    </tr>\n",
       "    <tr>\n",
       "      <th>std</th>\n",
       "      <td>721.092453</td>\n",
       "      <td>713.056473</td>\n",
       "      <td>717.265808</td>\n",
       "      <td>717.365317</td>\n",
       "      <td>1.479115e+09</td>\n",
       "      <td>717.365317</td>\n",
       "    </tr>\n",
       "    <tr>\n",
       "      <th>min</th>\n",
       "      <td>4.400000</td>\n",
       "      <td>4.400000</td>\n",
       "      <td>4.400000</td>\n",
       "      <td>4.400000</td>\n",
       "      <td>0.000000e+00</td>\n",
       "      <td>4.400000</td>\n",
       "    </tr>\n",
       "    <tr>\n",
       "      <th>25%</th>\n",
       "      <td>23.820000</td>\n",
       "      <td>23.820000</td>\n",
       "      <td>23.820000</td>\n",
       "      <td>23.820000</td>\n",
       "      <td>1.270000e+06</td>\n",
       "      <td>23.820000</td>\n",
       "    </tr>\n",
       "    <tr>\n",
       "      <th>50%</th>\n",
       "      <td>100.190002</td>\n",
       "      <td>98.620003</td>\n",
       "      <td>99.400002</td>\n",
       "      <td>99.430000</td>\n",
       "      <td>1.721000e+07</td>\n",
       "      <td>99.430000</td>\n",
       "    </tr>\n",
       "    <tr>\n",
       "      <th>75%</th>\n",
       "      <td>833.700012</td>\n",
       "      <td>812.869995</td>\n",
       "      <td>822.099976</td>\n",
       "      <td>825.159973</td>\n",
       "      <td>5.248800e+08</td>\n",
       "      <td>825.159973</td>\n",
       "    </tr>\n",
       "    <tr>\n",
       "      <th>max</th>\n",
       "      <td>3588.110107</td>\n",
       "      <td>3535.229980</td>\n",
       "      <td>3564.739990</td>\n",
       "      <td>3580.840088</td>\n",
       "      <td>1.145623e+10</td>\n",
       "      <td>3580.840088</td>\n",
       "    </tr>\n",
       "  </tbody>\n",
       "</table>\n",
       "</div>"
      ],
      "text/plain": [
       "               High           Low  ...        Volume     Adj Close\n",
       "count  23285.000000  23285.000000  ...  2.328500e+04  23285.000000\n",
       "mean     484.922614    479.070240  ...  7.633524e+08    482.190826\n",
       "std      721.092453    713.056473  ...  1.479115e+09    717.365317\n",
       "min        4.400000      4.400000  ...  0.000000e+00      4.400000\n",
       "25%       23.820000     23.820000  ...  1.270000e+06     23.820000\n",
       "50%      100.190002     98.620003  ...  1.721000e+07     99.430000\n",
       "75%      833.700012    812.869995  ...  5.248800e+08    825.159973\n",
       "max     3588.110107   3535.229980  ...  1.145623e+10   3580.840088\n",
       "\n",
       "[8 rows x 6 columns]"
      ]
     },
     "execution_count": 2,
     "metadata": {
      "tags": []
     },
     "output_type": "execute_result"
    }
   ],
   "source": [
    "# For time stamps\n",
    "from datetime import datetime\n",
    "from pandas_datareader import data, wb\n",
    "\n",
    "# Set up End and Start times for data grab\n",
    "end = datetime.now()\n",
    "start = datetime(1927,12,29)\n",
    "\n",
    "# We are going to consider S&P 500 index for this analysis\n",
    "#snpData = data.DataReader(['sp500'],'fred',start,end)\n",
    "\n",
    "# We are going to consider S&P 500 index for this analysis\n",
    "snpData = data.DataReader('^GSPC','yahoo',start,end)\n",
    "\n",
    "\n",
    "snpData.describe()"
   ]
  },
  {
   "cell_type": "code",
   "execution_count": null,
   "metadata": {
    "colab": {
     "base_uri": "https://localhost:8080/",
     "height": 238
    },
    "id": "I6VVqvA02lZM",
    "outputId": "8954731b-ea02-457b-84c3-1e4fb842e5a2"
   },
   "outputs": [
    {
     "data": {
      "text/plain": [
       "Date\n",
       "1927-12-30      17.660000\n",
       "1928-01-03      17.760000\n",
       "1928-01-04      17.719999\n",
       "1928-01-05      17.549999\n",
       "1928-01-06      17.660000\n",
       "                 ...     \n",
       "2020-09-04    3426.959961\n",
       "2020-09-08    3331.840088\n",
       "2020-09-09    3398.959961\n",
       "2020-09-10    3339.189941\n",
       "2020-09-11    3361.510010\n",
       "Name: Adj Close, Length: 23285, dtype: float64"
      ]
     },
     "execution_count": 3,
     "metadata": {
      "tags": []
     },
     "output_type": "execute_result"
    }
   ],
   "source": [
    "snpData['Adj Close']"
   ]
  },
  {
   "cell_type": "code",
   "execution_count": null,
   "metadata": {
    "id": "xRAz8O75iVzs"
   },
   "outputs": [],
   "source": []
  },
  {
   "cell_type": "markdown",
   "metadata": {
    "id": "SHLNo-q2iWHl"
   },
   "source": [
    "Transforms the Daily data into Monthly Data: "
   ]
  },
  {
   "cell_type": "code",
   "execution_count": null,
   "metadata": {
    "id": "CCcQCC9fXPwz"
   },
   "outputs": [],
   "source": [
    "snpDataMonth=snpData.groupby(pd.Grouper(freq='M')).mean()"
   ]
  },
  {
   "cell_type": "code",
   "execution_count": null,
   "metadata": {
    "colab": {
     "base_uri": "https://localhost:8080/",
     "height": 238
    },
    "id": "aeeb8loPdezD",
    "outputId": "05174d47-3a8c-48c2-a5d5-4c9d7e8fe218"
   },
   "outputs": [
    {
     "data": {
      "text/plain": [
       "Date\n",
       "1927-12-31      17.660000\n",
       "1928-01-31      17.520000\n",
       "1928-02-29      17.324211\n",
       "1928-03-31      18.233182\n",
       "1928-04-30      19.371000\n",
       "                 ...     \n",
       "2020-05-31    2919.608484\n",
       "2020-06-30    3104.660933\n",
       "2020-07-31    3207.619096\n",
       "2020-08-31    3391.710019\n",
       "2020-09-30    3427.626251\n",
       "Freq: M, Name: Adj Close, Length: 1114, dtype: float64"
      ]
     },
     "execution_count": 30,
     "metadata": {
      "tags": []
     },
     "output_type": "execute_result"
    }
   ],
   "source": [
    "snpDataMonth['Adj Close']"
   ]
  },
  {
   "cell_type": "code",
   "execution_count": null,
   "metadata": {
    "colab": {
     "base_uri": "https://localhost:8080/",
     "height": 34
    },
    "id": "Lf81ZdqHYME2",
    "outputId": "3066d296-aad0-4587-f85b-e87c4ea3de53"
   },
   "outputs": [
    {
     "data": {
      "text/plain": [
       "17.519999821980793"
      ]
     },
     "execution_count": 27,
     "metadata": {
      "tags": []
     },
     "output_type": "execute_result"
    }
   ],
   "source": [
    "snpData['Adj Close'][1:22].mean()"
   ]
  },
  {
   "cell_type": "code",
   "execution_count": null,
   "metadata": {
    "colab": {
     "base_uri": "https://localhost:8080/",
     "height": 255
    },
    "id": "LdiWb26bcN72",
    "outputId": "01449416-13dc-4c7a-e82a-e3b84ad1dccf"
   },
   "outputs": [
    {
     "data": {
      "text/plain": [
       "Date\n",
       "2015-01-31    2028.178510\n",
       "2015-02-28    2082.195794\n",
       "2015-03-31    2079.990440\n",
       "2015-04-30    2094.862839\n",
       "2015-05-31    2111.943518\n",
       "2015-06-30    2099.283658\n",
       "2015-07-31    2094.143627\n",
       "2015-08-31    2039.866205\n",
       "2015-09-30    1944.402384\n",
       "2015-10-31    2024.812716\n",
       "2015-11-30    2080.616504\n",
       "2015-12-31    2054.079562\n",
       "Freq: M, Name: Adj Close, dtype: float64"
      ]
     },
     "execution_count": 31,
     "metadata": {
      "tags": []
     },
     "output_type": "execute_result"
    }
   ],
   "source": [
    "snpDataMonth['Adj Close']['2015']"
   ]
  },
  {
   "cell_type": "code",
   "execution_count": null,
   "metadata": {
    "id": "OQLgMyA3bSfe"
   },
   "outputs": [],
   "source": []
  },
  {
   "cell_type": "markdown",
   "metadata": {
    "id": "qn61OcrHaH3S"
   },
   "source": []
  },
  {
   "cell_type": "code",
   "execution_count": null,
   "metadata": {
    "colab": {
     "base_uri": "https://localhost:8080/",
     "height": 563
    },
    "id": "n8hgsbPdcEoJ",
    "outputId": "eceeacb8-eb1a-457d-b231-360968ff2e3d"
   },
   "outputs": [
    {
     "data": {
      "image/png": "[encoded data removed]",
      "text/plain": [
       "<Figure size 1440x720 with 1 Axes>"
      ]
     },
     "metadata": {
      "needs_background": "light",
      "tags": []
     },
     "output_type": "display_data"
    }
   ],
   "source": [
    "snpData['Adj Close'].plot(legend=True,figsize=(20,10))\n",
    "plt.yscale('log')"
   ]
  },
  {
   "cell_type": "markdown",
   "metadata": {
    "id": "giGml3QqaFZ2"
   },
   "source": []
  },
  {
   "cell_type": "code",
   "execution_count": null,
   "metadata": {
    "id": "2v6QudiNjhP8"
   },
   "outputs": [],
   "source": [
    "snpData['LogReturn']=np.log(snpData['Adj Close'])-np.log(snpData['Adj Close'].shift(1))"
   ]
  },
  {
   "cell_type": "code",
   "execution_count": null,
   "metadata": {
    "colab": {
     "base_uri": "https://localhost:8080/",
     "height": 286
    },
    "id": "dmd-Px5ujvay",
    "outputId": "7a682eb7-8dd4-4458-fd49-f2ac1f209b12"
   },
   "outputs": [
    {
     "data": {
      "text/plain": [
       "<matplotlib.axes._subplots.AxesSubplot at 0x7f0e3c392da0>"
      ]
     },
     "execution_count": 9,
     "metadata": {
      "tags": []
     },
     "output_type": "execute_result"
    },
    {
     "data": {
      "image/png": "[encoded data removed]",
      "text/plain": [
       "<Figure size 1440x288 with 1 Axes>"
      ]
     },
     "metadata": {
      "needs_background": "light",
      "tags": []
     },
     "output_type": "display_data"
    }
   ],
   "source": [
    "snpData['LogReturn'].plot(legend=True,figsize=(20,4))"
   ]
  },
  {
   "cell_type": "code",
   "execution_count": null,
   "metadata": {
    "id": "cM6L0yb3NCCd"
   },
   "outputs": [],
   "source": []
  },
  {
   "cell_type": "markdown",
   "metadata": {
    "id": "kQoNBRR8NgR4"
   },
   "source": [
    "##Exploratory Data Analysis: Local Volatility"
   ]
  },
  {
   "cell_type": "code",
   "execution_count": null,
   "metadata": {
    "colab": {
     "base_uri": "https://localhost:8080/",
     "height": 34
    },
    "id": "nBpmRWG5NjsG",
    "outputId": "5035c1b6-309f-4309-81b0-c535878d0261"
   },
   "outputs": [
    {
     "data": {
      "text/plain": [
       "5.10915336753884e-08"
      ]
     },
     "execution_count": 10,
     "metadata": {
      "tags": []
     },
     "output_type": "execute_result"
    }
   ],
   "source": [
    "np.mean(snpData['LogReturn'])**2"
   ]
  },
  {
   "cell_type": "code",
   "execution_count": null,
   "metadata": {
    "colab": {
     "base_uri": "https://localhost:8080/",
     "height": 34
    },
    "id": "6tLZWLvaOAE0",
    "outputId": "9fe7e3af-54ae-4d44-d01f-c455e72f1807"
   },
   "outputs": [
    {
     "data": {
      "text/plain": [
       "0.012017307563555544"
      ]
     },
     "execution_count": 11,
     "metadata": {
      "tags": []
     },
     "output_type": "execute_result"
    }
   ],
   "source": [
    "np.std(snpData['LogReturn'])"
   ]
  },
  {
   "cell_type": "code",
   "execution_count": null,
   "metadata": {
    "colab": {
     "base_uri": "https://localhost:8080/",
     "height": 34
    },
    "id": "pvxPXwNZb45J",
    "outputId": "8ea58966-3f79-445a-88e1-e731af1253b5"
   },
   "outputs": [
    {
     "data": {
      "text/plain": [
       "0.00014446677261076432"
      ]
     },
     "execution_count": 12,
     "metadata": {
      "tags": []
     },
     "output_type": "execute_result"
    }
   ],
   "source": [
    "np.mean(snpData['LogReturn']**2)"
   ]
  },
  {
   "cell_type": "markdown",
   "metadata": {
    "id": "4kWpH10Kh_MC"
   },
   "source": []
  },
  {
   "cell_type": "code",
   "execution_count": null,
   "metadata": {
    "colab": {
     "base_uri": "https://localhost:8080/",
     "height": 34
    },
    "id": "ZggWNxUBOMW-",
    "outputId": "3a0b6d06-702d-4c90-93ee-20fa40ddea9e"
   },
   "outputs": [
    {
     "data": {
      "text/plain": [
       "0.01201730756355553"
      ]
     },
     "execution_count": 13,
     "metadata": {
      "tags": []
     },
     "output_type": "execute_result"
    }
   ],
   "source": [
    "np.sqrt(np.mean(snpData['LogReturn']**2) -np.mean(snpData['LogReturn'])**2)"
   ]
  },
  {
   "cell_type": "code",
   "execution_count": null,
   "metadata": {
    "colab": {
     "base_uri": "https://localhost:8080/",
     "height": 34
    },
    "id": "jKen1o_lcBcW",
    "outputId": "69b1f690-7576-4480-bb74-935987362539"
   },
   "outputs": [
    {
     "data": {
      "text/plain": [
       "0.012019433123519774"
      ]
     },
     "execution_count": 14,
     "metadata": {
      "tags": []
     },
     "output_type": "execute_result"
    }
   ],
   "source": [
    "np.sqrt(np.mean(snpData['LogReturn']**2))"
   ]
  },
  {
   "cell_type": "code",
   "execution_count": null,
   "metadata": {
    "colab": {
     "base_uri": "https://localhost:8080/",
     "height": 34
    },
    "id": "K80JiHrScsYi",
    "outputId": "64475702-69bb-4512-d7ec-2494e8627494"
   },
   "outputs": [
    {
     "data": {
      "text/plain": [
       "0.00022603436392590486"
      ]
     },
     "execution_count": 15,
     "metadata": {
      "tags": []
     },
     "output_type": "execute_result"
    }
   ],
   "source": [
    "np.mean(snpData['LogReturn'])"
   ]
  },
  {
   "cell_type": "code",
   "execution_count": null,
   "metadata": {
    "id": "0qFEYdSCdZQo"
   },
   "outputs": [],
   "source": [
    "NormalSNP = np.random.normal(np.mean(snpData['LogReturn']),np.std(snpData['LogReturn']))"
   ]
  },
  {
   "cell_type": "code",
   "execution_count": null,
   "metadata": {
    "id": "ImkcYvxYdmc4"
   },
   "outputs": [],
   "source": [
    "SampleSNP = np.array([NormalSNP**2 for i in range(1000) ]).cumsum() ;"
   ]
  },
  {
   "cell_type": "code",
   "execution_count": null,
   "metadata": {
    "colab": {
     "base_uri": "https://localhost:8080/",
     "height": 284
    },
    "id": "iF2c6bQaedRp",
    "outputId": "199a0daa-b1c0-44cb-f8bb-55e736c95e54"
   },
   "outputs": [
    {
     "data": {
      "text/plain": [
       "[<matplotlib.lines.Line2D at 0x7f0e3bb1ab38>]"
      ]
     },
     "execution_count": 18,
     "metadata": {
      "tags": []
     },
     "output_type": "execute_result"
    },
    {
     "data": {
      "image/png": "[encoded data removed]",
      "text/plain": [
       "<Figure size 432x288 with 1 Axes>"
      ]
     },
     "metadata": {
      "needs_background": "light",
      "tags": []
     },
     "output_type": "display_data"
    }
   ],
   "source": [
    "plt.plot(range(1000),SampleSNP,'.')"
   ]
  },
  {
   "cell_type": "code",
   "execution_count": null,
   "metadata": {
    "colab": {
     "base_uri": "https://localhost:8080/",
     "height": 289
    },
    "id": "09lxCfWyjbx0",
    "outputId": "8a0a64bb-e4e8-4835-d550-eb7dcad2bcc9"
   },
   "outputs": [
    {
     "data": {
      "text/plain": [
       "<matplotlib.axes._subplots.AxesSubplot at 0x7f0e3c413908>"
      ]
     },
     "execution_count": 19,
     "metadata": {
      "tags": []
     },
     "output_type": "execute_result"
    },
    {
     "data": {
      "image/png": "[encoded data removed]",
      "text/plain": [
       "<Figure size 432x288 with 1 Axes>"
      ]
     },
     "metadata": {
      "needs_background": "light",
      "tags": []
     },
     "output_type": "display_data"
    }
   ],
   "source": [
    "((snpData['LogReturn'][1:]**2).cumsum()).plot()"
   ]
  },
  {
   "cell_type": "code",
   "execution_count": null,
   "metadata": {
    "colab": {
     "base_uri": "https://localhost:8080/",
     "height": 289
    },
    "id": "FmZ3yAuyjmDw",
    "outputId": "9fe46613-62ae-4d20-d4ac-ecdac5b448af"
   },
   "outputs": [
    {
     "data": {
      "text/plain": [
       "<matplotlib.axes._subplots.AxesSubplot at 0x7f0e3b98eba8>"
      ]
     },
     "execution_count": 20,
     "metadata": {
      "tags": []
     },
     "output_type": "execute_result"
    },
    {
     "data": {
      "image/png": "[encoded data removed]",
      "text/plain": [
       "<Figure size 432x288 with 1 Axes>"
      ]
     },
     "metadata": {
      "needs_background": "light",
      "tags": []
     },
     "output_type": "display_data"
    }
   ],
   "source": [
    "((snpData['LogReturn'][10000:]**2).cumsum()).plot()"
   ]
  },
  {
   "cell_type": "code",
   "execution_count": null,
   "metadata": {
    "id": "ULYpRFnLkgpC"
   },
   "outputs": [],
   "source": [
    "\n"
   ]
  },
  {
   "cell_type": "code",
   "execution_count": null,
   "metadata": {
    "colab": {
     "base_uri": "https://localhost:8080/",
     "height": 265
    },
    "id": "pYuq1rfRdQQI",
    "outputId": "8d362c52-b8c4-436f-ddae-567f49982b1d"
   },
   "outputs": [
    {
     "data": {
      "image/png": "[encoded data removed]",
      "text/plain": [
       "<Figure size 432x288 with 1 Axes>"
      ]
     },
     "metadata": {
      "needs_background": "light",
      "tags": []
     },
     "output_type": "display_data"
    }
   ],
   "source": [
    "_, bins, _ = plt.hist(snpData['LogReturn'][1:],bins=80,density=True,)"
   ]
  },
  {
   "cell_type": "code",
   "execution_count": null,
   "metadata": {
    "colab": {
     "base_uri": "https://localhost:8080/",
     "height": 306
    },
    "id": "EbCpx_MukMDR",
    "outputId": "be21827f-e4cc-4620-d048-4d1771dbe1cb"
   },
   "outputs": [
    {
     "data": {
      "text/plain": [
       "array([-0.22899729, -0.22421405, -0.21943082, -0.21464759, -0.20986436,\n",
       "       -0.20508113, -0.20029789, -0.19551466, -0.19073143, -0.1859482 ,\n",
       "       -0.18116496, -0.17638173, -0.1715985 , -0.16681527, -0.16203204,\n",
       "       -0.1572488 , -0.15246557, -0.14768234, -0.14289911, -0.13811587,\n",
       "       -0.13333264, -0.12854941, -0.12376618, -0.11898295, -0.11419971,\n",
       "       -0.10941648, -0.10463325, -0.09985002, -0.09506678, -0.09028355,\n",
       "       -0.08550032, -0.08071709, -0.07593386, -0.07115062, -0.06636739,\n",
       "       -0.06158416, -0.05680093, -0.0520177 , -0.04723446, -0.04245123,\n",
       "       -0.037668  , -0.03288477, -0.02810153, -0.0233183 , -0.01853507,\n",
       "       -0.01375184, -0.00896861, -0.00418537,  0.00059786,  0.00538109,\n",
       "        0.01016432,  0.01494756,  0.01973079,  0.02451402,  0.02929725,\n",
       "        0.03408048,  0.03886372,  0.04364695,  0.04843018,  0.05321341,\n",
       "        0.05799665,  0.06277988,  0.06756311,  0.07234634,  0.07712957,\n",
       "        0.08191281,  0.08669604,  0.09147927,  0.0962625 ,  0.10104573,\n",
       "        0.10582897,  0.1106122 ,  0.11539543,  0.12017866,  0.1249619 ,\n",
       "        0.12974513,  0.13452836,  0.13931159,  0.14409482,  0.14887806,\n",
       "        0.15366129])"
      ]
     },
     "execution_count": 70,
     "metadata": {
      "tags": []
     },
     "output_type": "execute_result"
    }
   ],
   "source": [
    "bins"
   ]
  },
  {
   "cell_type": "markdown",
   "metadata": {
    "id": "YcPPpobMs1LA"
   },
   "source": [
    "Fit a normal distribution:\n"
   ]
  },
  {
   "cell_type": "markdown",
   "metadata": {
    "id": "DyhGVyAK2INj"
   },
   "source": [
    "x = Bins \n",
    "y = NormalPDF(x,mean, std)  "
   ]
  },
  {
   "cell_type": "code",
   "execution_count": null,
   "metadata": {
    "id": "ZO1SKReJio3p"
   },
   "outputs": [],
   "source": [
    "mu, sigma = stats.norm.fit(snpData['LogReturn'][1:])\n",
    "best_fit_line = stats.norm.pdf(bins, mu, sigma)"
   ]
  },
  {
   "cell_type": "code",
   "execution_count": null,
   "metadata": {
    "colab": {
     "base_uri": "https://localhost:8080/",
     "height": 282
    },
    "id": "rkY6cwBXtYsw",
    "outputId": "2c155387-0a35-4260-ef46-39c25af0ebd6"
   },
   "outputs": [
    {
     "data": {
      "text/plain": [
       "[<matplotlib.lines.Line2D at 0x7f0e2bfe4860>]"
      ]
     },
     "execution_count": 78,
     "metadata": {
      "tags": []
     },
     "output_type": "execute_result"
    },
    {
     "data": {
      "image/png": "[encoded data removed]",
      "text/plain": [
       "<Figure size 432x288 with 1 Axes>"
      ]
     },
     "metadata": {
      "needs_background": "light",
      "tags": []
     },
     "output_type": "display_data"
    }
   ],
   "source": [
    "_, bins, _= plt.hist(snpData['LogReturn'][1:],density=True,bins=80)\n",
    "plt.plot(bins, best_fit_line)"
   ]
  },
  {
   "cell_type": "code",
   "execution_count": null,
   "metadata": {
    "colab": {
     "base_uri": "https://localhost:8080/",
     "height": 296
    },
    "id": "LQ9WvXdnlR8d",
    "outputId": "faafda9b-662b-42e7-c4ae-a1b127989b0b"
   },
   "outputs": [
    {
     "data": {
      "text/plain": [
       "<matplotlib.axes._subplots.AxesSubplot at 0x7f0e369fec50>"
      ]
     },
     "execution_count": 25,
     "metadata": {
      "tags": []
     },
     "output_type": "execute_result"
    },
    {
     "data": {
      "image/png": "[encoded data removed]",
      "text/plain": [
       "<Figure size 432x288 with 1 Axes>"
      ]
     },
     "metadata": {
      "needs_background": "light",
      "tags": []
     },
     "output_type": "display_data"
    }
   ],
   "source": [
    "sns.distplot(snpData['LogReturn'][1:], fit=stats.norm, kde=False)"
   ]
  },
  {
   "cell_type": "code",
   "execution_count": null,
   "metadata": {
    "id": "rCYTqnp2tYGT"
   },
   "outputs": [],
   "source": []
  },
  {
   "cell_type": "code",
   "execution_count": null,
   "metadata": {
    "colab": {
     "base_uri": "https://localhost:8080/",
     "height": 296
    },
    "id": "rRtN-N7Xiqp6",
    "outputId": "882f2197-d99b-4c98-b382-474a6bc23663"
   },
   "outputs": [
    {
     "data": {
      "text/plain": [
       "<matplotlib.axes._subplots.AxesSubplot at 0x7f0e3692b828>"
      ]
     },
     "execution_count": 26,
     "metadata": {
      "tags": []
     },
     "output_type": "execute_result"
    },
    {
     "data": {
      "image/png": "[encoded data removed]",
      "text/plain": [
       "<Figure size 432x288 with 1 Axes>"
      ]
     },
     "metadata": {
      "needs_background": "light",
      "tags": []
     },
     "output_type": "display_data"
    }
   ],
   "source": [
    "sns.distplot(snpData['LogReturn'][1:], fit=stats.t, kde=False)"
   ]
  },
  {
   "cell_type": "code",
   "execution_count": null,
   "metadata": {
    "id": "TIEucGpJjnCv"
   },
   "outputs": [],
   "source": [
    "Tfit =stats.t.fit(snpData['LogReturn'][1:])"
   ]
  },
  {
   "cell_type": "code",
   "execution_count": null,
   "metadata": {
    "colab": {
     "base_uri": "https://localhost:8080/",
     "height": 265
    },
    "id": "a3BcT3SvkYhR",
    "outputId": "9e17698b-5233-4fb3-d5ce-79a2356710d3"
   },
   "outputs": [
    {
     "data": {
      "image/png": "[encoded data removed]",
      "text/plain": [
       "<Figure size 432x288 with 1 Axes>"
      ]
     },
     "metadata": {
      "needs_background": "light",
      "tags": []
     },
     "output_type": "display_data"
    }
   ],
   "source": [
    "plt.plot(bins,stats.t.pdf(bins,Tfit[0],Tfit[1],Tfit[2]));"
   ]
  }
 ],
 "metadata": {
  "colab": {
   "collapsed_sections": [
    "_gISBWOVg1yi",
    "4PMeByIhnzJb",
    "iZgj-e0OvPEe"
   ],
   "name": "AMS-512-1-Mean-Variance-Optimization.ipynb",
   "provenance": []
  },
  "kernelspec": {
   "display_name": "Python 3",
   "language": "python",
   "name": "python3"
  },
  "language_info": {
   "codemirror_mode": {
    "name": "ipython",
    "version": 3
   },
   "file_extension": ".py",
   "mimetype": "text/x-python",
   "name": "python",
   "nbconvert_exporter": "python",
   "pygments_lexer": "ipython3",
   "version": "3.8.2"
  }
 },
 "nbformat": 4,
 "nbformat_minor": 1
}
